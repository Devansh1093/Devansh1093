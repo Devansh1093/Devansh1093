{
  "nbformat": 4,
  "nbformat_minor": 0,
  "metadata": {
    "colab": {
      "provenance": [],
      "authorship_tag": "ABX9TyMFX3SVoiIFLhk9RWFoT5rl",
      "include_colab_link": true
    },
    "kernelspec": {
      "name": "python3",
      "display_name": "Python 3"
    },
    "language_info": {
      "name": "python"
    }
  },
  "cells": [
    {
      "cell_type": "markdown",
      "metadata": {
        "id": "view-in-github",
        "colab_type": "text"
      },
      "source": [
        "<a href=\"https://colab.research.google.com/github/Devansh1093/Devansh1093/blob/main/CNN.ipynb\" target=\"_parent\"><img src=\"https://colab.research.google.com/assets/colab-badge.svg\" alt=\"Open In Colab\"/></a>"
      ]
    },
    {
      "cell_type": "code",
      "execution_count": null,
      "metadata": {
        "id": "Brf09gKkvugQ"
      },
      "outputs": [],
      "source": [
        "import torch\n",
        "import torch.nn as nn\n",
        "import torch.nn.functional as F\n",
        "from torch.utils.data import DataLoader\n",
        "from torchvision import datasets, transforms\n",
        "from torchvision.utils import make_grid\n",
        "\n",
        "import numpy as np\n",
        "import pandas as pd\n",
        "from sklearn.metrics import confusion_matrix\n",
        "import matplotlib.pyplot as plt\n",
        "%matplotlib inline\n"
      ]
    },
    {
      "cell_type": "code",
      "source": [
        "# Convert MNIST Images file into a Tensor of 4-Dimensions(# of images,Height,Width,Color Channel)\n",
        "transform = transforms.ToTensor()\n"
      ],
      "metadata": {
        "id": "xDSMZp8ewUlR"
      },
      "execution_count": null,
      "outputs": []
    },
    {
      "cell_type": "code",
      "source": [
        "#Train Data\n",
        "train_data = datasets.MNIST(root='cnndata', train=True, download=True, transform=transform)\n",
        "#Test Data\n",
        "test_data = datasets.MNIST(root='cnndata', train=False, download=True, transform=transform)\n",
        "\n",
        "train_data\n"
      ],
      "metadata": {
        "colab": {
          "base_uri": "https://localhost:8080/"
        },
        "id": "CcZaKdIkxwer",
        "outputId": "05706dcd-dac4-4466-8dbb-36474f8eb5c3"
      },
      "execution_count": null,
      "outputs": [
        {
          "output_type": "stream",
          "name": "stderr",
          "text": [
            "100%|██████████| 9.91M/9.91M [00:00<00:00, 55.5MB/s]\n",
            "100%|██████████| 28.9k/28.9k [00:00<00:00, 1.60MB/s]\n",
            "100%|██████████| 1.65M/1.65M [00:00<00:00, 14.0MB/s]\n",
            "100%|██████████| 4.54k/4.54k [00:00<00:00, 7.43MB/s]\n"
          ]
        },
        {
          "output_type": "execute_result",
          "data": {
            "text/plain": [
              "Dataset MNIST\n",
              "    Number of datapoints: 60000\n",
              "    Root location: cnndata\n",
              "    Split: Train\n",
              "    StandardTransform\n",
              "Transform: ToTensor()"
            ]
          },
          "metadata": {},
          "execution_count": 10
        }
      ]
    },
    {
      "cell_type": "code",
      "source": [
        "#Create a small batch size for images\n",
        "train_loader =  DataLoader(train_data, batch_size=10, shuffle=True)\n",
        "test_loader = DataLoader(test_data, batch_size=10, shuffle=False)\n",
        "\n"
      ],
      "metadata": {
        "id": "0BJnSnl-yy1h"
      },
      "execution_count": null,
      "outputs": []
    },
    {
      "cell_type": "code",
      "source": [
        "#Define our CNN Model\n",
        "#Describe convolutional layer and what it's doing(2 convolutional layer)\n",
        "conv1 = nn.Conv2d(1,6,3,1)\n",
        "conv2 = nn.Conv2d(6,16,3,1)\n",
        "\n"
      ],
      "metadata": {
        "id": "shx5tyQBzfe5"
      },
      "execution_count": null,
      "outputs": []
    },
    {
      "cell_type": "code",
      "source": [
        "#Grab 1 MNIST record/image\n",
        "for i, (X_train, y_train) in enumerate(train_data):\n",
        "    break\n"
      ],
      "metadata": {
        "id": "zUp03psi0Tem"
      },
      "execution_count": null,
      "outputs": []
    },
    {
      "cell_type": "code",
      "source": [
        "X_train.shape"
      ],
      "metadata": {
        "colab": {
          "base_uri": "https://localhost:8080/"
        },
        "id": "SCVgbJeJ0fLd",
        "outputId": "6e7c0df8-fdfe-4ce8-c909-7e9b44095264"
      },
      "execution_count": null,
      "outputs": [
        {
          "output_type": "execute_result",
          "data": {
            "text/plain": [
              "torch.Size([1, 28, 28])"
            ]
          },
          "metadata": {},
          "execution_count": 20
        }
      ]
    },
    {
      "cell_type": "code",
      "source": [
        "x= X_train.view(1,1,28,28)\n",
        "x.shape"
      ],
      "metadata": {
        "colab": {
          "base_uri": "https://localhost:8080/"
        },
        "id": "aCjtVLlS0he3",
        "outputId": "05c0fbc1-1393-49be-fc45-baa2fe025802"
      },
      "execution_count": null,
      "outputs": [
        {
          "output_type": "execute_result",
          "data": {
            "text/plain": [
              "torch.Size([1, 1, 28, 28])"
            ]
          },
          "metadata": {},
          "execution_count": 22
        }
      ]
    },
    {
      "cell_type": "code",
      "source": [
        "# 1st convolution\n",
        "# 1 is single image , 6 is the filters we asked for, 26*26\n",
        "# why isn't it 28*28 because we have not used padding so there are some drop of pixels\n",
        "\n",
        "x= F.relu(conv1(x))\n",
        "x.shape"
      ],
      "metadata": {
        "colab": {
          "base_uri": "https://localhost:8080/"
        },
        "id": "OpxZX-cQ02Fw",
        "outputId": "0e20c64a-7b37-49f5-8111-4a73d02a6c44"
      },
      "execution_count": null,
      "outputs": [
        {
          "output_type": "execute_result",
          "data": {
            "text/plain": [
              "torch.Size([1, 6, 26, 26])"
            ]
          },
          "metadata": {},
          "execution_count": 23
        }
      ]
    },
    {
      "cell_type": "code",
      "source": [
        "#pass through the pooling layer\n",
        "x= F.max_pool2d(x,2,2)  #kernel =2 , stride = 2\n",
        "x.shape"
      ],
      "metadata": {
        "colab": {
          "base_uri": "https://localhost:8080/"
        },
        "id": "x1QjEoi71Dd7",
        "outputId": "fd92966b-f872-4e60-9ea8-f62a1864f62b"
      },
      "execution_count": null,
      "outputs": [
        {
          "output_type": "execute_result",
          "data": {
            "text/plain": [
              "torch.Size([1, 6, 13, 13])"
            ]
          },
          "metadata": {},
          "execution_count": 24
        }
      ]
    },
    {
      "cell_type": "code",
      "source": [
        "#2nd Convolution Layer\n",
        "x = F.relu(conv2(x)) # again no padding so there is loss of 2 piexel hence 11\n",
        "x.shape"
      ],
      "metadata": {
        "colab": {
          "base_uri": "https://localhost:8080/"
        },
        "id": "T6SlAi6U18R6",
        "outputId": "4bc35899-42a7-47b7-f0e0-550375ed35af"
      },
      "execution_count": null,
      "outputs": [
        {
          "output_type": "execute_result",
          "data": {
            "text/plain": [
              "torch.Size([1, 16, 11, 11])"
            ]
          },
          "metadata": {},
          "execution_count": 25
        }
      ]
    },
    {
      "cell_type": "code",
      "source": [
        "#Pooling layer\n",
        "X = F.max_pool2d(x,2,2) # 11/2 = 5.5 we will round down because we cannot invent new data to round up\n",
        "X.shape"
      ],
      "metadata": {
        "colab": {
          "base_uri": "https://localhost:8080/"
        },
        "id": "1DLmdrLz2QG_",
        "outputId": "ea698cd3-4e97-40c5-d930-24eb7089635c"
      },
      "execution_count": null,
      "outputs": [
        {
          "output_type": "execute_result",
          "data": {
            "text/plain": [
              "torch.Size([1, 16, 5, 5])"
            ]
          },
          "metadata": {},
          "execution_count": 26
        }
      ]
    },
    {
      "cell_type": "code",
      "source": [
        "#Model Class\n",
        "class CNN(nn.Module):\n",
        "  def __init__(self):\n",
        "    super().__init__()\n",
        "    self.conv1 = nn.Conv2d(1,6,3,1)\n",
        "    self.conv2 = nn.Conv2d(6,16,3,1)\n",
        "    #Fully connected layer\n",
        "    self.fc1 = nn.Linear(5*5*16,120)\n",
        "    self.fc2 = nn.Linear(120,84)\n",
        "    self.fc3 = nn.Linear(84,10)\n",
        "  def forward(self,x):\n",
        "    # First Pass\n",
        "    x = F.relu(self.conv1(x))\n",
        "    x = F.max_pool2d(x,2,2)\n",
        "    # Second Pass\n",
        "    x = F.relu(self.conv2(x))\n",
        "    x = F.max_pool2d(x,2,2)\n",
        "    #Flatten\n",
        "    x = x.view(-1,5*5*16)\n",
        "   #Fully connected Layers\n",
        "    x = F.relu(self.fc1(x))\n",
        "    x = F.relu(self.fc2(x))\n",
        "    x = self.fc3(x)\n",
        "    return F.log_softmax(x,dim=1)"
      ],
      "metadata": {
        "id": "7BQKQYt32Ycr"
      },
      "execution_count": null,
      "outputs": []
    },
    {
      "cell_type": "code",
      "source": [
        "#Create an Instance of our Model\n",
        "torch.manual_seed(41)\n",
        "model = CNN()\n",
        "model"
      ],
      "metadata": {
        "colab": {
          "base_uri": "https://localhost:8080/"
        },
        "id": "A1wcWFoy4vG2",
        "outputId": "9a2755f8-92e6-4ca6-df48-42bcf30cfd58"
      },
      "execution_count": null,
      "outputs": [
        {
          "output_type": "execute_result",
          "data": {
            "text/plain": [
              "CNN(\n",
              "  (conv1): Conv2d(1, 6, kernel_size=(3, 3), stride=(1, 1))\n",
              "  (conv2): Conv2d(6, 16, kernel_size=(3, 3), stride=(1, 1))\n",
              "  (fc1): Linear(in_features=400, out_features=120, bias=True)\n",
              "  (fc2): Linear(in_features=120, out_features=84, bias=True)\n",
              "  (fc3): Linear(in_features=84, out_features=10, bias=True)\n",
              ")"
            ]
          },
          "metadata": {},
          "execution_count": 37
        }
      ]
    },
    {
      "cell_type": "code",
      "source": [
        "#Loss function Optimizer\n",
        "criterion = nn.CrossEntropyLoss()\n",
        "optimizer = torch.optim.Adam(model.parameters(),lr=0.001)\n"
      ],
      "metadata": {
        "id": "2ho0WIOl5m_h"
      },
      "execution_count": null,
      "outputs": []
    },
    {
      "cell_type": "code",
      "source": [
        "import time\n",
        "start = time.time()\n",
        "# Create Variables\n",
        "epochs =5\n",
        "train_losses = []\n",
        "test_losses = []\n",
        "train_correct = []\n",
        "test_correct = []\n",
        "\n",
        "\n",
        "# For loop for epooch\n",
        "for i in range(epochs):\n",
        "  trn_corr = 0\n",
        "  tst_corr = 0\n",
        "  #Train\n",
        "  for b, (X_train, y_train) in enumerate(train_loader):\n",
        "    b+=1\n",
        "    y_pred = model(X_train)\n",
        "    loss = criterion(y_pred,y_train)\n",
        "    predicted = torch.max(y_pred.data,1)[1]\n",
        "    batch_corr = (predicted == y_train).sum()\n",
        "    trn_corr += batch_corr\n",
        "    optimizer.zero_grad()\n",
        "    loss.backward()\n",
        "    optimizer.step()\n",
        "  #Print out some result\n",
        "    if b%600 == 0:\n",
        "        print(f'epoch: {i}  loss:{loss.item()}')\n",
        "train_losses.append(loss)\n",
        "train_correct.append(trn_corr)\n",
        "  # Test\n",
        "with torch.no_grad():\n",
        "    for b, (X_test, y_test) in enumerate(test_loader):\n",
        "      y_val = model(X_test)\n",
        "      predicted = torch.max(y_val.data,1)[1]\n",
        "loss = criterion(y_val,y_test)\n",
        "tst_corr += (predicted == y_test).sum()\n",
        "test_losses.append(loss)\n",
        "test_correct.append(tst_corr)\n",
        "\n",
        "\n",
        "current = time.time()\n",
        "total = current + start\n",
        "print(f'Training Took: {total/60} minutes!')\n"
      ],
      "metadata": {
        "colab": {
          "base_uri": "https://localhost:8080/"
        },
        "id": "j5HyV-wS5y1a",
        "outputId": "e8cb0f96-a06f-4be2-e566-093bab1863f6"
      },
      "execution_count": null,
      "outputs": [
        {
          "output_type": "stream",
          "name": "stdout",
          "text": [
            "epoch: 0  loss:0.1623610556125641\n",
            "epoch: 0  loss:0.1502392590045929\n",
            "epoch: 0  loss:0.4744560718536377\n",
            "epoch: 0  loss:0.14238706231117249\n",
            "epoch: 0  loss:0.007758188061416149\n",
            "epoch: 0  loss:0.3836284875869751\n",
            "epoch: 0  loss:0.0038223876617848873\n",
            "epoch: 0  loss:0.0021286322735249996\n",
            "epoch: 0  loss:0.0569545142352581\n",
            "epoch: 0  loss:0.00038789428072050214\n",
            "epoch: 1  loss:0.06289136409759521\n",
            "epoch: 1  loss:0.010614877566695213\n",
            "epoch: 1  loss:0.03243611007928848\n",
            "epoch: 1  loss:0.012448625639081001\n",
            "epoch: 1  loss:0.000640809943433851\n",
            "epoch: 1  loss:0.0020938280504196882\n",
            "epoch: 1  loss:0.3140248656272888\n",
            "epoch: 1  loss:0.020231451839208603\n",
            "epoch: 1  loss:0.0031914091669023037\n",
            "epoch: 1  loss:0.0009488927898928523\n",
            "epoch: 2  loss:0.04242878407239914\n",
            "epoch: 2  loss:0.000786997377872467\n",
            "epoch: 2  loss:0.0004456916940398514\n",
            "epoch: 2  loss:0.0021735907066613436\n",
            "epoch: 2  loss:6.313459743978456e-05\n",
            "epoch: 2  loss:0.0014708992093801498\n",
            "epoch: 2  loss:8.743518264964223e-05\n",
            "epoch: 2  loss:0.0011174092069268227\n",
            "epoch: 2  loss:0.00019280910782981664\n",
            "epoch: 2  loss:0.00013335500261746347\n",
            "epoch: 3  loss:0.20401248335838318\n",
            "epoch: 3  loss:0.0011065044673159719\n",
            "epoch: 3  loss:0.00048520020209252834\n",
            "epoch: 3  loss:0.0013440614566206932\n",
            "epoch: 3  loss:0.00839989073574543\n",
            "epoch: 3  loss:9.791700722416863e-05\n",
            "epoch: 3  loss:0.0046706534922122955\n",
            "epoch: 3  loss:0.002486269222572446\n",
            "epoch: 3  loss:0.03304066136479378\n",
            "epoch: 3  loss:0.0277620367705822\n",
            "epoch: 4  loss:0.04214929789304733\n",
            "epoch: 4  loss:0.0015658453339710832\n",
            "epoch: 4  loss:4.677330798585899e-05\n",
            "epoch: 4  loss:0.00042244786163792014\n",
            "epoch: 4  loss:0.554036021232605\n",
            "epoch: 4  loss:0.00038964804843999445\n",
            "epoch: 4  loss:0.027548160403966904\n",
            "epoch: 4  loss:0.004602053668349981\n",
            "epoch: 4  loss:0.05360576510429382\n",
            "epoch: 4  loss:0.03545317426323891\n",
            "Training Took: 58632436.28158803 minutes!\n"
          ]
        }
      ]
    },
    {
      "cell_type": "code",
      "source": [
        "test1= test_data[4143][0].reshape(28,28)\n",
        "plt.imshow(test1)\n"
      ],
      "metadata": {
        "colab": {
          "base_uri": "https://localhost:8080/",
          "height": 447
        },
        "id": "4Rhz8XpS-RpE",
        "outputId": "45bd8528-64fc-4ff3-87cb-917b39e301e3"
      },
      "execution_count": null,
      "outputs": [
        {
          "output_type": "execute_result",
          "data": {
            "text/plain": [
              "<matplotlib.image.AxesImage at 0x78544e674050>"
            ]
          },
          "metadata": {},
          "execution_count": 40
        },
        {
          "output_type": "display_data",
          "data": {
            "text/plain": [
              "<Figure size 640x480 with 1 Axes>"
            ],
            "image/png": "[encoded data removed]"
          },
          "metadata": {}
        }
      ]
    },
    {
      "cell_type": "code",
      "source": [
        "#pass image through model\n",
        "model.eval()\n",
        "with torch.no_grad():\n",
        "  new = model(test_data[4143][0].view(1,1,28,28))\n"
      ],
      "metadata": {
        "id": "TCZt5m0c_J0Y"
      },
      "execution_count": null,
      "outputs": []
    },
    {
      "cell_type": "code",
      "source": [
        "new.argmax()"
      ],
      "metadata": {
        "colab": {
          "base_uri": "https://localhost:8080/"
        },
        "id": "J1R9hkoZ_elj",
        "outputId": "39679784-9a5d-45a5-cf72-19ab69cdbc89"
      },
      "execution_count": null,
      "outputs": [
        {
          "output_type": "execute_result",
          "data": {
            "text/plain": [
              "tensor(9)"
            ]
          },
          "metadata": {},
          "execution_count": 45
        }
      ]
    }
  ]
}